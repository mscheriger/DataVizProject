{
 "cells": [
  {
   "cell_type": "code",
   "execution_count": 1,
   "metadata": {},
   "outputs": [],
   "source": [
    "# Imports\n",
    "import pandas as pd\n",
    "import numpy as np\n",
    "import datetime\n",
    "from dateutil.relativedelta import relativedelta\n",
    "\n",
    "import geopandas as gpd\n",
    "from geopy import distance\n",
    "from shapely.geometry import Point, Polygon, LineString\n",
    "from shapely import wkt\n",
    "import math\n",
    "from math import sqrt, pow, atan2, degrees, pi\n",
    "from shapely import affinity\n",
    "\n",
    "import subprocess\n",
    "\n",
    "\n",
    "\n",
    "from haversine import haversine, Unit\n",
    "\n",
    "import matplotlib.pyplot as plt\n",
    "%matplotlib inline"
   ]
  },
  {
   "cell_type": "code",
   "execution_count": 2,
   "metadata": {},
   "outputs": [],
   "source": [
    "# Constants\n",
    "data_path = \"../../data/\"\n",
    "taxi_raw = data_path + \"Taxi_Trips.csv\"\n",
    "rideshare_raw = data_path + \"Transportation_Network_Providers_-_Trips.csv\"\n",
    "census_raw = \"Boundaries - Census Tracts - 2010.geojson\""
   ]
  },
  {
   "cell_type": "code",
   "execution_count": 3,
   "metadata": {},
   "outputs": [],
   "source": [
    "#read data\n",
    "taxi = pd.read_csv(taxi_raw)\n",
    "rideshare = pd.read_csv(rideshare_raw)\n",
    "census = gpd.read_file(census_raw)"
   ]
  },
  {
   "cell_type": "code",
   "execution_count": 4,
   "metadata": {},
   "outputs": [],
   "source": [
    "#converting the taxi data and rideshare data into geopandas dfs\n",
    "taxi['Pickup Centroid Location'] = gpd.points_from_xy(taxi[\"Pickup Centroid Longitude\"], taxi[\"Pickup Centroid Latitude\"])\n",
    "taxi['Dropoff Centroid  Location'] = gpd.points_from_xy(taxi['Dropoff Centroid Longitude'], taxi['Dropoff Centroid Latitude'])\n",
    "taxi_pickup = gpd.GeoDataFrame(taxi, geometry='Pickup Centroid Location')\n",
    "taxi_dropoff = gpd.GeoDataFrame(taxi, geometry='Dropoff Centroid  Location')\n",
    "\n",
    "rideshare['Pickup Centroid Location'] = gpd.points_from_xy(rideshare[\"Pickup Centroid Longitude\"], rideshare[\"Pickup Centroid Latitude\"])\n",
    "rideshare['Dropoff Centroid Location'] = gpd.points_from_xy(rideshare['Dropoff Centroid Longitude'], rideshare['Dropoff Centroid Latitude'])\n",
    "rideshare_pickup = gpd.GeoDataFrame(taxi, geometry='Pickup Centroid Location')\n",
    "rideshare_dropoff = gpd.GeoDataFrame(taxi, geometry='Dropoff Centroid  Location')\n"
   ]
  },
  {
   "cell_type": "code",
   "execution_count": 45,
   "metadata": {},
   "outputs": [
    {
     "data": {
      "text/plain": [
       "(1449712, 23)"
      ]
     },
     "execution_count": 45,
     "metadata": {},
     "output_type": "execute_result"
    }
   ],
   "source": [
    "taxi_pickup.shape"
   ]
  },
  {
   "cell_type": "code",
   "execution_count": 48,
   "metadata": {},
   "outputs": [
    {
     "name": "stderr",
     "output_type": "stream",
     "text": [
      "/Users/greeshamsimon/anaconda3/lib/python3.7/site-packages/geopandas/tools/sjoin.py:61: UserWarning: CRS of frames being joined does not match!(None != {'init': 'epsg:4326'})\n",
      "  \"(%s != %s)\" % (left_df.crs, right_df.crs)\n",
      "/Users/greeshamsimon/anaconda3/lib/python3.7/site-packages/geopandas/tools/sjoin.py:61: UserWarning: CRS of frames being joined does not match!(None != {'init': 'epsg:4326'})\n",
      "  \"(%s != %s)\" % (left_df.crs, right_df.crs)\n",
      "/Users/greeshamsimon/anaconda3/lib/python3.7/site-packages/numpy/lib/function_base.py:2167: RuntimeWarning: invalid value encountered in ? (vectorized)\n",
      "  outputs = ufunc(*inputs)\n",
      "/Users/greeshamsimon/anaconda3/lib/python3.7/site-packages/geopandas/tools/sjoin.py:61: UserWarning: CRS of frames being joined does not match!(None != {'init': 'epsg:4326'})\n",
      "  \"(%s != %s)\" % (left_df.crs, right_df.crs)\n",
      "/Users/greeshamsimon/anaconda3/lib/python3.7/site-packages/geopandas/tools/sjoin.py:61: UserWarning: CRS of frames being joined does not match!(None != {'init': 'epsg:4326'})\n",
      "  \"(%s != %s)\" % (left_df.crs, right_df.crs)\n"
     ]
    }
   ],
   "source": [
    "#census.reset_index(inplace=True, drop=True)\n",
    "#taxi_pickup.reset_index(inplace=True, drop=True)\n",
    "\n",
    "#census.crs = taxi_pickup.crs\n",
    "taxi_pickup_merged = gpd.sjoin(taxi_pickup, census,  op = 'intersects', how= 'inner')\n",
    "taxi_dropoff_merged = gpd.sjoin(taxi_dropoff, census,  op = 'intersects', how= 'inner')\n",
    "\n",
    "rideshare_pickup_merged = gpd.sjoin(rideshare_pickup, census,  op = 'intersects', how= 'inner')\n",
    "rideshare_dropoff_merged = gpd.sjoin(rideshare_dropoff, census,  op = 'intersects', how= 'inner')\n",
    "\n"
   ]
  },
  {
   "cell_type": "code",
   "execution_count": 67,
   "metadata": {},
   "outputs": [],
   "source": [
    "rideshare_pickup_summary = pd.DataFrame(rideshare_pickup_merged.name10.value_counts()).reset_index()\n",
    "rideshare_pickup_summary.rename(columns={\"index\": \"name10\", \"name10\": \"rideshare_pickup\"}, inplace = True)\n",
    "rideshare_dropoff_summary = pd.DataFrame(rideshare_dropoff_merged.name10.value_counts()).reset_index()\n",
    "rideshare_dropoff_summary.rename(columns={\"index\": \"name10\", \"name10\": \"rideshare_dropoff\"}, inplace = True)\n",
    "taxi_pickup_summary = pd.DataFrame(taxi_pickup_merged.name10.value_counts()).reset_index()\n",
    "taxi_pickup_summary.rename(columns={\"index\": \"name10\", \"name10\": \"taxi_pickup\"}, inplace = True)\n",
    "taxi_dropoff_summary = pd.DataFrame(taxi_dropoff_merged.name10.value_counts()).reset_index()\n",
    "taxi_dropoff_summary.rename(columns={\"index\": \"name10\", \"name10\": \"taxi_dropoff\"}, inplace = True)"
   ]
  },
  {
   "cell_type": "code",
   "execution_count": 72,
   "metadata": {},
   "outputs": [],
   "source": [
    "heatmap_values = taxi_dropoff_summary.merge(taxi_pickup_summary, on = 'name10').merge(rideshare_pickup_summary, on = 'name10').merge(rideshare_dropoff_summary, on = 'name10')"
   ]
  },
  {
   "cell_type": "code",
   "execution_count": 78,
   "metadata": {},
   "outputs": [],
   "source": [
    "heatmap = census.merge(heatmap_values, on = 'name10')"
   ]
  },
  {
   "cell_type": "code",
   "execution_count": 83,
   "metadata": {},
   "outputs": [],
   "source": [
    "heatmap.to_file(\"heatmap.geojson\", driver='GeoJSON')"
   ]
  },
  {
   "cell_type": "code",
   "execution_count": null,
   "metadata": {},
   "outputs": [],
   "source": []
  }
 ],
 "metadata": {
  "kernelspec": {
   "display_name": "Python 3",
   "language": "python",
   "name": "python3"
  },
  "language_info": {
   "codemirror_mode": {
    "name": "ipython",
    "version": 3
   },
   "file_extension": ".py",
   "mimetype": "text/x-python",
   "name": "python",
   "nbconvert_exporter": "python",
   "pygments_lexer": "ipython3",
   "version": "3.7.3"
  }
 },
 "nbformat": 4,
 "nbformat_minor": 2
}
